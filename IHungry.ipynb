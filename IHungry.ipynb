{
 "cells": [
  {
   "attachments": {},
   "cell_type": "markdown",
   "metadata": {},
   "source": [
    "# IHungry \n",
    "\n",
    "É uma janela que vai estar fazendo a progressão de 1° janela e 2° janela"
   ]
  },
  {
   "attachments": {},
   "cell_type": "markdown",
   "metadata": {},
   "source": [
    "1° Janela: login\n",
    "\n",
    "'''\n",
    "\n",
    "Nome\n",
    "\n",
    "[_____________________]\n",
    "\n",
    "'''"
   ]
  },
  {
   "attachments": {},
   "cell_type": "markdown",
   "metadata": {},
   "source": [
    "2° Janela: Pedido\n",
    "\n",
    "'''\n",
    "\n",
    "Fazer Pedido\n",
    "\n",
    "__ Pizza de Pepperoni     __ Pizza de Frango c/ Catupiry\n",
    "\n",
    "[Voltar]  [Fazer Pedido]\n",
    "\n",
    "'''"
   ]
  },
  {
   "cell_type": "code",
   "execution_count": 1,
   "metadata": {},
   "outputs": [],
   "source": [
    "import PySimpleGUI as sg"
   ]
  },
  {
   "attachments": {},
   "cell_type": "markdown",
   "metadata": {},
   "source": [
    "1°) Nós vamos definir uma função, para que cada função crie uma nova janela por que essa é a forma que funciona para criar novas janelas no PySimpleGUI quando nós temos multiplas janelas:\n",
    "    \n",
    "    - Definimos o nome da nossa função;\n",
    "    - Definimos o tema da nossa janela;\n",
    "    - Criamos o Layout com um texto, um campo de texto e um botão de continuar;\n",
    "    - Por fim retornamos a nossa janela criada com um nome, o layout usado e o 'finalize=True' usado nas funções.\n",
    "\n",
    "2°) Agora vamos definir mais uma função a de fazer pedido:\n",
    "\n",
    "    - Definimos o nome da nossa função;\n",
    "    - Definimos o tema da nossa janela;\n",
    "    - Criamos o Layout com um texto, 2 checkbox para os pedidos de comida e 2 botões, um para voltar para a janela anterior e a outra para confirmar o pedido;\n",
    "    - Por fim retornamos a nossa janela criada com um nome, o layout usado e o 'finalize=True' usado nas funções.\n",
    "\n",
    "\n"
   ]
  },
  {
   "cell_type": "code",
   "execution_count": 2,
   "metadata": {},
   "outputs": [],
   "source": [
    "# Criar as janelas e estilos(layout)\n",
    "def janela_login():\n",
    "    sg.theme('Reddit')\n",
    "    layout = [\n",
    "        [sg.Text('Nome', key='nome')],\n",
    "        [sg.InputText()],\n",
    "        [sg.Button('Continuar')]\n",
    "    ]\n",
    "    return sg.Window('Login', layout=layout, finalize= True)\n",
    "\n",
    "def janela_pedido():\n",
    "    sg.theme('Reddit')\n",
    "    layout2 = [\n",
    "        [sg.Text('Fazer Pedido')],\n",
    "        [sg.Checkbox('Pizza de Pepperoni', key='pizza1'), sg.Checkbox('Pizza de Frango c/ Catupiry', key='pizza2')],\n",
    "        [sg.Button('Voltar'), sg.Button('Fazer Pedido')]\n",
    "    ]\n",
    "    return sg.Window('Pedido', layout= layout2, finalize=True)"
   ]
  },
  {
   "attachments": {},
   "cell_type": "markdown",
   "metadata": {},
   "source": [
    "Agora vamos criar as janelas iniciais, e para isso temos que estar pensando agora quais janelas queremos que abram junto com o nosso programa assim que clicarmos em executar, no nosso caso queremos que abra APENAS a '_janela_login_':\n",
    "\n",
    "    Usamos duas vairáveis (janela1, janela2) para as duas janelas 'Login'(janela_login) e 'Pedido'(janela_pedido), onde só vai abrir a 'janela_login', temos que chama-la, mas a segunda janela usamos o 'None' para ela não ser inicializada.\n",
    "\n",
    "    janela1, janela2 = janela_login(), None\n",
    "\n",
    "    "
   ]
  },
  {
   "cell_type": "code",
   "execution_count": 3,
   "metadata": {},
   "outputs": [],
   "source": [
    "# Criar as janelas iniciais\n",
    "\n",
    "janela1, janela2 = janela_login(), None "
   ]
  },
  {
   "attachments": {},
   "cell_type": "markdown",
   "metadata": {},
   "source": [
    "Quando criamos as regras da janela usamos o while loop:\n",
    "\n",
    "    window, event, values = sg.read_all_windows()\n",
    "\n",
    "    window = Qual janela está sendo lida no momento;\n",
    "    event = Vamos estar lendo todos os eventos (todo o click que faremos na nossa tela)\n",
    "    values = Sempre que preenchermos um valor em algum campo,  ou que pegarmos alguma informação de algum lugar, e os valores são atribuidos as 'keys'\n",
    "    sg.read_all_windows() = Vai ler todas as janelas do nosso programa com multiplas janelas.\n",
    "\n",
    "Para parar o loop:\n",
    "\n",
    "    if window == janela1 and event == sg.WIN_CLOSED:\n",
    "        break\n",
    "\n",
    "Quando queremos ir para próxima janela:\n",
    "    \n",
    "    Se estivermos na janela1(Login) e clicarmos em 'Continuar' vamos para a 'janela2 = janela_pedido' e a janela1(Login) vai ser escondida com o janela1.hide() para não ser mostrada e tenhamos 2 janelas ao mesmo tempo.\n",
    "    \n",
    "    if window == janela1 and event == 'Continuar':\n",
    "        janela2 = janela_pedido()\n",
    "        janela1.hide()\n",
    "\n",
    "Quando queremos voltar para janela anterior:\n",
    "    \n",
    "    Se estivermos na janela2(Pedido) e usarmos o botão de voltar, a janela2(Pedido) vai ser escondida com o janela2.hide() e a janela1(Login) vai voltar com o janela1.un_hide()\n",
    "    \n",
    "    if window == janela2 and event == 'Voltar':\n",
    "        janela2.hide()\n",
    "        janela1.un_hide()\n",
    "\n",
    "Quando fazemos o pedido:\n",
    "\n",
    "    Se estivermos na janela2(Pedido) e usarmos o botão de Fazer Pedido:\n",
    "        Se marcarmos os 2 checkboxs, mostra a mensagem dos 2 pedidos juntos;\n",
    "        Se for marcado 1° checkbox, mostra a mensagem do pedido;\n",
    "        Se for marcado 2° checkbox, mostra a mensagem do pedido;\n",
    "        sg.popup( ) = Abre uma janela pequena que pode conter uma mensagem.\n",
    "\n",
    "\n",
    "    if window == janela2 and event == 'Fazer Pedido':\n",
    "        if values['pizza1'] == True and values['pizza2'] == True:\n",
    "            sg.popup('Foram solicitados uma Pizza de Pepperoni e uma Pizza de Frango c/ Catupiry')\n",
    "        elif values['pizza1'] == True:\n",
    "            sg.popup('Foi solicitada uma Pizza de Pepperoni')\n",
    "        elif values['pizza2'] == True:\n",
    "            sg.popup('Foi solicitada uma Pizza de Frango c/ Catupiry')    "
   ]
  },
  {
   "cell_type": "code",
   "execution_count": null,
   "metadata": {},
   "outputs": [],
   "source": [
    "# Criar um loop de leitura de eventos\n",
    "# lógica de o que deve acontecer ao clicar os botões\n",
    "\n",
    "while True:\n",
    "    window, event, values = sg.read_all_windows()\n",
    "    # Quando a janela for fechada\n",
    "    if window == janela1 and event == sg.WIN_CLOSED:\n",
    "        break\n",
    "    # Quando queremos ir para próxima janela \n",
    "    elif window == janela1 and event == 'Continuar':\n",
    "        janela2 = janela_pedido()\n",
    "        janela1.hide()\n",
    "    # Quando queremos voltar para janela anterior\n",
    "    elif window == janela2 and event == 'Voltar':\n",
    "        janela2.hide()\n",
    "        janela1.un_hide()\n",
    "    # Quando fazemos o pedido\n",
    "    elif window == janela2 and event == 'Fazer Pedido':\n",
    "        if values['pizza1'] == True and values['pizza2'] == True:\n",
    "            sg.popup('Foram solicitados uma Pizza de Pepperoni e uma Pizza de Frango c/ Catupiry')\n",
    "        elif values['pizza1'] == True:\n",
    "            sg.popup('Foi solicitada uma Pizza de Pepperoni')\n",
    "        elif values['pizza2'] == True:\n",
    "            sg.popup('Foi solicitada uma Pizza de Frango c/ Catupiry')\n",
    "    \n",
    "\n",
    "janela1.close()\n"
   ]
  }
 ],
 "metadata": {
  "kernelspec": {
   "display_name": "Python 3",
   "language": "python",
   "name": "python3"
  },
  "language_info": {
   "codemirror_mode": {
    "name": "ipython",
    "version": 3
   },
   "file_extension": ".py",
   "mimetype": "text/x-python",
   "name": "python",
   "nbconvert_exporter": "python",
   "pygments_lexer": "ipython3",
   "version": "3.11.0"
  },
  "orig_nbformat": 4,
  "vscode": {
   "interpreter": {
    "hash": "2b216522463207ad40199edfb1f46615a7788339200e5e2dcede2d2ed3eece78"
   }
  }
 },
 "nbformat": 4,
 "nbformat_minor": 2
}
