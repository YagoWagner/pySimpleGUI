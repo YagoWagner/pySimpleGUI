{
 "cells": [
  {
   "cell_type": "code",
   "execution_count": 1,
   "metadata": {},
   "outputs": [],
   "source": [
    "import random\n",
    "import PySimpleGUI as sg\n"
   ]
  },
  {
   "attachments": {},
   "cell_type": "markdown",
   "metadata": {},
   "source": [
    "### Layout e Janela\n",
    "\n",
    "sg.Text() --> Mostra um texto na janela que pode ser usado como orientação na janela criada.\n",
    "\n",
    "sg.Input() --> Cria um campo que podemos preencher com letras, números ou simbolos.\n",
    "\n",
    "sg.Combo(values, default_value, size) --> Vai criar uma lista, no nosso caso ela vai ter 29 elementos, o default_value é para mostrar por qual valor vai começar a nossa lista, e o size é para definir a largura e altura do elemento.\n",
    "\n",
    "sg.Output(size=()) --> É um grande campo onde as informações que colocarmos podem ser mostradas em um grande bloco, o size é para definir a largura e altura do elemento.\n",
    "\n",
    "sg.Button() --> Cria um botão.\n",
    "\n",
    "self.janela --> Faz com que ela possa ser acessada em qualquer metodo em qualquer função que faz uso do self.\n",
    "\n",
    "sg.Window() --> É uma forma de declarar a janela colocando o nome dela e o layout que vamos usar para a sua criação."
   ]
  },
  {
   "cell_type": "code",
   "execution_count": 2,
   "metadata": {},
   "outputs": [],
   "source": [
    "class PassGen:\n",
    "    def __init__(self):\n",
    "        #layout\n",
    "        sg.theme('Black')\n",
    "        layout = [\n",
    "            [sg.Text('Site/Software', size=(10,1)), sg.Input(key='site', size=(20,1))],\n",
    "            [sg.Text('Email/Usuário', size=(10,1)), sg.Input(key='usuario', size=(20,1))],\n",
    "            [sg.Text('Quantidade de caracteres', size=(10,1)), sg.Combo(values=list(\n",
    "            range(30)), key='total_chars', default_value=1, size=(3, 1))],\n",
    "            [sg.Output(size=(32, 5))],\n",
    "            [sg.Button('Gerar Senha')]\n",
    "        ]\n",
    "\n",
    "        #declarar janela\n",
    "        self.janela = sg.Window('Password Generator', layout)\n",
    "\n",
    "\n",
    "    def Iniciar(self):\n",
    "        while True:\n",
    "            evento, valores = self.janela.read()\n",
    "            if evento == sg.WINDOW_CLOSED:\n",
    "                break\n",
    "            if evento == 'Gerar Senha':\n",
    "                nova_senha = self.gerar_senha(valores)\n",
    "                print(nova_senha)\n",
    "                self.salvar_senha(nova_senha, valores)\n",
    "    \n",
    "\n",
    "    def gerar_senha(self, valores):\n",
    "        char_list = 'ABCDEFGHIJKLMNOPQRSTUVWXYZÇabcdefghijklmnopqrstuvwxyz1234567890!@#$%&*¨'\n",
    "        chars = random.choices(char_list, k=int(valores['total_chars']))\n",
    "        new_pass = ''.join(chars)\n",
    "        return new_pass \n",
    "\n",
    "\n",
    "    def salvar_senha(self, nova_senha, valores):\n",
    "        with open('senhas.txt', 'a', newline='') as arquivo:\n",
    "            arquivo.write(\n",
    "                f\"Site {valores['site']}, usuario: {valores['usuario']}, nova senha {nova_senha}\")\n",
    "\n",
    "        print('Arquivo Salvo')\n",
    "\n",
    "\n",
    "gen = PassGen()\n",
    "gen.Iniciar()"
   ]
  },
  {
   "attachments": {},
   "cell_type": "markdown",
   "metadata": {},
   "source": [
    "    def gerar_senha(self, valores):\n",
    "\n",
    "Essa função vai receber como parâmetro todos os valores da tela.\n",
    "\n",
    "Para gerar essa senha aleatórea precisamos de uma fonte, de uma base de um string ou um local onde eu possa extrair caracteres  para podermos concatenar esses caracteres e gerar uma senha aleatórea que será criada a partir de um tamanho especifico.\n",
    "\n",
    "    char_list = 'ABCDEFGHIJKLMNOPQRSTUVWXYZÇabcdefghijklmnopqrstuvwxyz1234567890!@#$%&*¨'\n",
    "\n",
    "O 'char_list' é uma variável onde está os caracteres que poderá ter a nossa lista.\n",
    "\n",
    "        chars = random.choices(char_list, k=int(valores['total_chars']))\n",
    "\n",
    "Quando entramos em 'random.choises' que vai estar dentro de 'chars' ele vai retornar uma lista de caracteres, e vamos transformar essa lista inteira em apenas um único string e para isso podemos concatenar(unir) usando o metodo 'join'\n",
    "\n",
    "        new_pass = ''.join(chars)\n",
    "\n",
    "Temos que pegar essa lista que vai ser retornada e transformar ela em apenas um único string usando o 'join', então vamos estar juntando cada caractere com um espaço vazio ( _''.join(chars)_ ) com base no que foi criado dentro de 'chars'\n",
    "\n",
    "        return new_pass\n",
    "\n",
    "Por fim retornamos esse resultado para a função que a chamou.\n",
    "\n"
   ]
  },
  {
   "attachments": {},
   "cell_type": "markdown",
   "metadata": {},
   "source": [
    "       def salver_senha(self, nova_senha, valores):\n",
    "        with open('senhas.txt', 'a', newline='') as arquivo:\n",
    "            \n",
    "\n",
    "with open(o nome do arquivo que será salvo no computador, o método no qual será trabalhado (a = append), \n",
    "newline='' para que não crie um espaço em branco entre as linhas) as arquivo é o nome que demos.\n",
    "\n",
    "            arquivo.write(\n",
    "            f\"site{valores['site']}, usuario: {valores[usuario]}, nova senha {nova_senha}\")\n",
    "\n",
    "Vai escrever uma mensagem com os dados que mostramos e com a senha que o programa fez"
   ]
  }
 ],
 "metadata": {
  "kernelspec": {
   "display_name": "Python 3",
   "language": "python",
   "name": "python3"
  },
  "language_info": {
   "codemirror_mode": {
    "name": "ipython",
    "version": 3
   },
   "file_extension": ".py",
   "mimetype": "text/x-python",
   "name": "python",
   "nbconvert_exporter": "python",
   "pygments_lexer": "ipython3",
   "version": "3.11.0"
  },
  "orig_nbformat": 4,
  "vscode": {
   "interpreter": {
    "hash": "2b216522463207ad40199edfb1f46615a7788339200e5e2dcede2d2ed3eece78"
   }
  }
 },
 "nbformat": 4,
 "nbformat_minor": 2
}
