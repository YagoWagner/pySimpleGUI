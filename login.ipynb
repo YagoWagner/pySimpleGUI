{
 "cells": [
  {
   "cell_type": "code",
   "execution_count": 1,
   "metadata": {},
   "outputs": [],
   "source": [
    "import PySimpleGUI as sg"
   ]
  },
  {
   "cell_type": "code",
   "execution_count": 2,
   "metadata": {},
   "outputs": [],
   "source": [
    "sg.theme('Black')\n",
    "layout=[\n",
    "    [sg.Text('Usuário')],\n",
    "    [sg.Input(key='usuario')],\n",
    "    [sg.Text('Senha')],\n",
    "    [sg.Input(key='senha', password_char='*')],\n",
    "    [sg.Button('login')],\n",
    "    [sg.Text('', key='msg')]\n",
    "    ]"
   ]
  },
  {
   "cell_type": "code",
   "execution_count": 3,
   "metadata": {},
   "outputs": [],
   "source": [
    "janela = sg.Window('Login', layout)"
   ]
  },
  {
   "cell_type": "code",
   "execution_count": 4,
   "metadata": {},
   "outputs": [],
   "source": [
    "while True:\n",
    "    event, value = janela.read()\n",
    "    if event == sg.WINDOW_CLOSED:\n",
    "        break\n",
    "    elif event == 'login':\n",
    "        usuario_correta = 'Yago' \n",
    "        senha_correta = 'aaronico'\n",
    "        usuario = value['usuario']\n",
    "        senha = value['senha']\n",
    "        if usuario_correta == usuario and senha_correta == senha:\n",
    "            janela['msg'].update('Login feito com sucesso')\n",
    "        elif usuario_correta != usuario and senha_correta == senha:\n",
    "            janela['msg'].update('Usuário Incorreto')\n",
    "        elif usuario_correta == usuario and senha_correta != senha:\n",
    "            janela['msg'].update('Senha Incorreta')\n",
    "        else:\n",
    "            janela['msg'].update('Usuário e Senha Incorretos')"
   ]
  }
 ],
 "metadata": {
  "kernelspec": {
   "display_name": "Python 3",
   "language": "python",
   "name": "python3"
  },
  "language_info": {
   "codemirror_mode": {
    "name": "ipython",
    "version": 3
   },
   "file_extension": ".py",
   "mimetype": "text/x-python",
   "name": "python",
   "nbconvert_exporter": "python",
   "pygments_lexer": "ipython3",
   "version": "3.11.0"
  },
  "orig_nbformat": 4,
  "vscode": {
   "interpreter": {
    "hash": "2b216522463207ad40199edfb1f46615a7788339200e5e2dcede2d2ed3eece78"
   }
  }
 },
 "nbformat": 4,
 "nbformat_minor": 2
}
