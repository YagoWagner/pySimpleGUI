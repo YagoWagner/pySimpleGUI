{
 "cells": [
  {
   "cell_type": "code",
   "execution_count": 1,
   "metadata": {},
   "outputs": [],
   "source": [
    "import PySimpleGUI as sg"
   ]
  },
  {
   "cell_type": "markdown",
   "metadata": {},
   "source": [
    "'''\n",
    "\n",
    "Qual a temperatura da carne?\n",
    "\n",
    "[__________________________]\n",
    "\n",
    "[Buscar]     [Cancelar]\n",
    "\n",
    "............................\n",
    "\n",
    "'''"
   ]
  },
  {
   "cell_type": "code",
   "execution_count": 2,
   "metadata": {},
   "outputs": [],
   "source": [
    "sg.change_look_and_feel('DarkBrown4')\n",
    "layout =[\n",
    "    [sg.Text('Qual a temperatura da carne?', size=(30,1))],\n",
    "    [sg.Input(key='temp', size=(30,2))],\n",
    "    [sg.Button('Buscar'), sg.Button('Cancelar')],\n",
    "    [sg.Text('', key='Result')]\n",
    "]"
   ]
  },
  {
   "cell_type": "code",
   "execution_count": 3,
   "metadata": {},
   "outputs": [],
   "source": [
    "janela = sg.Window('Temperatura da carne', layout=layout)"
   ]
  },
  {
   "cell_type": "code",
   "execution_count": 4,
   "metadata": {},
   "outputs": [
    {
     "name": "stdout",
     "output_type": "stream",
     "text": [
      "Selada\n"
     ]
    }
   ],
   "source": [
    "while True:\n",
    "    event, value = janela.read()\n",
    "    if event == sg.WINDOW_CLOSED or event == 'Cancelar':\n",
    "        break\n",
    "    elif event == 'Buscar':  \n",
    "        if int(value['temp']) < 48:\n",
    "            msg = 'Cozinhar por mais alguns minutos'\n",
    "            print(msg)\n",
    "        elif int(value['temp']) in range(48, 54):\n",
    "            msg = 'Selada'\n",
    "            print(msg)\n",
    "        elif int(value['temp']) in range(54, 60):\n",
    "            msg ='Ao ponto para o mal'\n",
    "            print(msg)\n",
    "        elif int(value['temp']) in range(60, 65):\n",
    "            msg = 'Ao ponto'\n",
    "            print(msg)\n",
    "        elif int(value['temp']) in range(65, 71):\n",
    "            msg = 'Ao ponto para o bem'\n",
    "            print(msg)\n",
    "        elif int(value['temp']) in range(71, 76):\n",
    "            msg = 'Bem passada'\n",
    "            print(msg)\n",
    "        else:\n",
    "            msg = 'Carne queimada'\n",
    "            print(msg)\n",
    "        janela['Result'].update(f'{msg}')\n",
    "\n",
    "\n",
    "janela.close()\n"
   ]
  }
 ],
 "metadata": {
  "kernelspec": {
   "display_name": "Python 3.11.0 64-bit",
   "language": "python",
   "name": "python3"
  },
  "language_info": {
   "codemirror_mode": {
    "name": "ipython",
    "version": 3
   },
   "file_extension": ".py",
   "mimetype": "text/x-python",
   "name": "python",
   "nbconvert_exporter": "python",
   "pygments_lexer": "ipython3",
   "version": "3.11.0"
  },
  "orig_nbformat": 4,
  "vscode": {
   "interpreter": {
    "hash": "2b216522463207ad40199edfb1f46615a7788339200e5e2dcede2d2ed3eece78"
   }
  }
 },
 "nbformat": 4,
 "nbformat_minor": 2
}
