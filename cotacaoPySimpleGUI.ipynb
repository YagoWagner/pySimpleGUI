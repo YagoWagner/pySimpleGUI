{
 "cells": [
  {
   "cell_type": "code",
   "execution_count": 1,
   "metadata": {},
   "outputs": [],
   "source": [
    "import PySimpleGUI as sg\n",
    "from cotacao import pegar_cotacoes"
   ]
  },
  {
   "cell_type": "markdown",
   "metadata": {},
   "source": [
    "'''\n",
    "layout = [\n",
    "    \n",
    "    [sg.Text('Pegar a Cotação de Moeda')], = Texto que sinaliza o que devemos colocar no campo abaixo.\n",
    "\n",
    "    [sg.InputText(key='nome_cotacao')], = Campo que colocamos a moeda que queremos saber a cotação.\n",
    "    \n",
    "    [sg.Button('Pegar Cotação'), sg.Button('Cancelar')], = 2 Botões, um é de Pegar Cotação, que pega a cotação da moeda digitada acima e o outro é 'Cancelar'  que cancela todo o processo.\n",
    "    \n",
    "    [sg.Text('', key='texto_cotacao')], = O resultado da cotação que conseguimos após apertar o botão de 'Pegar Cotação \n",
    "]\n",
    "'''"
   ]
  },
  {
   "cell_type": "markdown",
   "metadata": {},
   "source": [
    "'''\n",
    "\n",
    "Pegar a Cotação da Moeda\n",
    "\n",
    "[______________________]\n",
    "\n",
    "[Pegar Cotação]  [Cancelar]\n",
    "\n",
    "...........................\n",
    "\n",
    "'''"
   ]
  },
  {
   "cell_type": "code",
   "execution_count": null,
   "metadata": {},
   "outputs": [],
   "source": [
    "# Layout: Cada linha da lista \"['list']\" é um texto ou interação com a janela criada \n",
    "\n",
    "layout = [\n",
    "    [sg.Text('Pegar a Cotação de Moeda')],\n",
    "    [sg.InputText(key='nome_cotacao')],\n",
    "    [sg.Button('Pegar Cotação'), sg.Button('Cancelar')],\n",
    "    [sg.Text('', key='texto_cotacao')],\n",
    "]"
   ]
  },
  {
   "cell_type": "markdown",
   "metadata": {},
   "source": [
    "\n",
    "janela = sg.Window('Cotação com o PySimpleGUI', layout) = a Janela vai ter o nome de 'Cotação com o PySimpleGUI' e o layout \n",
    "\n",
    "que criamos com os textos, campos e botões vai ser mostrado na janela como se cada item da lista fosse uma linha da janela. "
   ]
  },
  {
   "cell_type": "code",
   "execution_count": null,
   "metadata": {},
   "outputs": [],
   "source": [
    "# Janela: Colocamos o nome da janela e com qual variável ela vai trabalhar\n",
    "\n",
    "janela = sg.Window('Cotação com o PySimpleGUI', layout)"
   ]
  },
  {
   "cell_type": "markdown",
   "metadata": {},
   "source": [
    "while True: -> While loop\n",
    "\n",
    "    evento, valores = janela.read() -> Enquanto o loop estiver 'True' ele vai ler as informações da nossa janela criada e vai armazenar, os eventos e os valores.\n",
    "\n",
    "    if evento == sg.WIN_CLOSED or evento == 'Cancelar': -> Se clicarmos no 'x' (fechar) da janela ou apertarmos o botão 'Cancelar' o programa vai parar (break) e sair do loop.\n",
    "\n",
    "    if evento == 'Pegar Cotação': -> Se o clicarmos no Botão 'Pegar Cotação'.\n",
    "\n",
    "        codigo_cotacao = valores['nome_cotacao'] -> Criamos a variável 'codigo_cotacao' que vai ser igual ao parâmetro colocado na key ['nome_cotação'] que é um valor.\n",
    "\n",
    "        cotacao = pegar_cotacoes(codigo_cotacao.upper()) -> A 'cotacao' vai ser igual a uma função que criamos e chamamos de 'pegar_cotacoes' que você passa para ela o código da moeda e retorna a sua cotação, e colocamos a variável codigo_cotacao que é onde está o código da moeda que pode ser do DOLAR, EURO, BITCOIN ETC...\n",
    "\n",
    "        janela['texto_cotacao'].update(f'A Cotação do {codigo_cotacao} é de R${cotacao}') -> O 'janela['texto_cotacao]' é usado porque queremos editar um campo dentro da nossa 'janela'. O '.update()' vai atualizar o ['texto_cotacao'] para uma mensagem que vamos inserir dentro do parênteses.\n",
    "\n",
    "janela.close() -> Fecha a janela após o loop parar."
   ]
  },
  {
   "cell_type": "code",
   "execution_count": null,
   "metadata": {},
   "outputs": [],
   "source": [
    "# Extrair os dados da tela: Nesse caso vamos usar o while True, programando através de:\n",
    "# evento: É todo o 'click' que faremos na nossa janela, nesse caso podemos usar os nomes que demos aos botões que criamos.\n",
    "# valores: Sempre que preenchermos um valor em algum campo, ou que pegarmos alguma informação de algum lugar será um valor\n",
    "# A PRIMEIRA COISA DE DEVEMOS FAZER APÓS ISSO É A CONDIÇÃO PARA FECHAR A JANELA.\n",
    "\n",
    "while True:\n",
    "    evento, valores = janela.read()\n",
    "    if evento == sg.WIN_CLOSED or evento == 'Cancelar':\n",
    "        break\n",
    "    if evento == 'Pegar Cotação':\n",
    "        codigo_cotacao = valores['nome_cotacao']\n",
    "        cotacao = pegar_cotacoes(codigo_cotacao.upper())\n",
    "        janela['texto_cotacao'].update(f'A Cotação do {codigo_cotacao} é de R${cotacao}')\n",
    "\n",
    "janela.close()"
   ]
  }
 ],
 "metadata": {
  "kernelspec": {
   "display_name": "Python 3.11.0 64-bit",
   "language": "python",
   "name": "python3"
  },
  "language_info": {
   "codemirror_mode": {
    "name": "ipython",
    "version": 3
   },
   "file_extension": ".py",
   "mimetype": "text/x-python",
   "name": "python",
   "nbconvert_exporter": "python",
   "pygments_lexer": "ipython3",
   "version": "3.11.0"
  },
  "orig_nbformat": 4,
  "vscode": {
   "interpreter": {
    "hash": "2b216522463207ad40199edfb1f46615a7788339200e5e2dcede2d2ed3eece78"
   }
  }
 },
 "nbformat": 4,
 "nbformat_minor": 2
}
