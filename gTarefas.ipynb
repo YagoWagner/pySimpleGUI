{
 "cells": [
  {
   "cell_type": "markdown",
   "metadata": {},
   "source": [
    "# Gerenciador de Tarefas"
   ]
  },
  {
   "cell_type": "code",
   "execution_count": 1,
   "metadata": {},
   "outputs": [],
   "source": [
    "import PySimpleGUI as sg"
   ]
  },
  {
   "cell_type": "markdown",
   "metadata": {},
   "source": [
    "'''\n",
    "linha\n",
    "\n",
    "___ [_________________]\n",
    "\n",
    "[Nova tarefa] [Resetar]\n",
    "\n",
    "'''"
   ]
  },
  {
   "cell_type": "markdown",
   "metadata": {},
   "source": [
    "Nesse Gerenciador de tarefas temos:\n",
    "\n",
    "    - Um Checkbox: onde vamos marcar se está ou não finalizado a tarefa.\n",
    "    - Um Campo de Texto: onde podemos digitar a tarefa a ser feita.\n",
    "    - 2 Botões:\n",
    "        - Nova tarefa: Que quando apertado vai gerar mais um checkbox com um campo de texto.\n",
    "        - Resetar: Serve para restaurar a janela ao seu estado inicial.\n",
    "\n",
    "sg.theme( ): Define um tema para a nossa janela\n",
    "\n",
    "Criamos uma função para que o botão 'Nova Tarefa' funcione e acrecente os elementos de Checkbox e o Campo de Texto.\n",
    "\n",
    "O layout '_linha_' só tem o Checkbox e o Campo de Texto, por que vamos acrecentar mais um desses quando usarmos o botão 'Nova Tarefa'.\n",
    "\n",
    "    O segundo layout '_layout_' temos o:\n",
    "    -sg.Frame( ): onde temos que acrecentar certos dados como:\n",
    "                \n",
    "                 1°) Damos um nome a ela;\n",
    "                \n",
    "                 2°) Qual o layout que vai ser inserido nessa frame, que no caso é o layout '_linha_';\n",
    "                \n",
    "                 3°) Vamos adicionar uma '_key_' para que possamos voltar depois e adicionar novas linhas quando quisermos.\n",
    "    \n",
    "    Depois acrecentamos os 2 botões com o 'sg.Button()'\n",
    "\n",
    "Agora como já crimaos o layout podemos usar ele dentro de uma criação de janela 'sg.Window'( ):\n",
    "\n",
    "    return sg.Window('Todo List', layout=layout, finalize=True)\n",
    "\n",
    "Por termos feito tudo na criação de uma função no final vamos retornar a criação de janela e vamos acrecentar\n",
    "    \n",
    "    o nome da janela, \n",
    "     \n",
    "    o nome do layout que vamos ultizar \n",
    "     \n",
    "    e um termo chamade de '_finalize=True_' que é necessário quando estamos trabalhando com a criação de janelas através de funções\n",
    "\n"
   ]
  },
  {
   "cell_type": "code",
   "execution_count": 2,
   "metadata": {},
   "outputs": [],
   "source": [
    "# Criando o Layout\n",
    "\n",
    "def criar_janela_inicial():\n",
    "    sg.theme('DarkBlue4')\n",
    "    linha = [\n",
    "        [sg.Checkbox(''), sg.Input('')]\n",
    "    ]\n",
    "    \n",
    "    layout = [\n",
    "        [sg.Frame('Tarefas', layout=linha, key='container')],\n",
    "        [sg.Button('Nova Tarefa'), sg.Button('Resetar')]\n",
    "    ]\n",
    "\n",
    "    return sg.Window('Todo List', layout=layout, finalize=True)\n"
   ]
  },
  {
   "cell_type": "markdown",
   "metadata": {},
   "source": [
    "A janela vai ser igual a função que criamos com os nossos 2 layouts"
   ]
  },
  {
   "cell_type": "code",
   "execution_count": 3,
   "metadata": {},
   "outputs": [],
   "source": [
    "# Criando a Janela\n",
    "\n",
    "janela = criar_janela_inicial()"
   ]
  },
  {
   "cell_type": "markdown",
   "metadata": {},
   "source": [
    "Quando criamos as regras da janela usamos o while loop:\n",
    "\n",
    "    - event, values = janela.read( ) = Vamos estar lendo todos os eventos (todo o click que faremos na nossa tela) e valores(Sempre que preenchermos um valor em algum campo,  ou que pegarmos alguma informação de algum lugar ) que serão feitos na janela através do janela.read( )\n",
    "    \n",
    "Agora criamos a regra que vai parar o programa, caso fechemos a janela:\n",
    "    \n",
    "    if event == sg.WIN_CLOSED:\n",
    "        break\n",
    "\n",
    "Se clicarmos no botão 'Nova Tarefa', precisamos que acrecente mais um checkbox com um campo de texto: \n",
    "    O '_janela.extend_layout_' permite que adicionemos novos elementos dentro de um elemento: \n",
    "\n",
    "        1°) Temos que especificar qual container vai receber essa informação que no caso é o nosso '_Frame_', que tem um '_key_' chamado '_container_'.\n",
    "        \n",
    "        2°) Colocamos o que deve ser adicionado de fato: \n",
    "        [sg.Checkbox(''), sg.Input('')] por estarmos mexendo com PySimpleGUI estamos lidando com um layout e layout tem que estar entre colchetes:\n",
    "        [[sg.Checkbox(''), sg.Input('')]]\n",
    "\n",
    "    elif event == 'Nova Tarefa':\n",
    "        janela.extend_layout(janela['container'], [[sg.Checkbox(''), sg.Input('')]])\n",
    "\n",
    "Agora se clicarmos no botão '_Resetar_' deve reiniciar a janela fechando ela, (janela.close( )) e abrindo de novo(janela = criar_janela_inicial()):\n",
    "\n",
    "        elif event == 'Resetar':\n",
    "        janela.close()\n",
    "        janela = criar_janela_inicial()\n",
    "\n",
    "janela.close(): quando está fora do loop quando ele parar a janela vai ser fechada."
   ]
  },
  {
   "cell_type": "code",
   "execution_count": null,
   "metadata": {},
   "outputs": [],
   "source": [
    "# Criar as regras dessa janela\n",
    "\n",
    "while True:\n",
    "    event, values = janela.read()\n",
    "    if event == sg.WIN_CLOSED:\n",
    "        break\n",
    "    elif event == 'Nova Tarefa':\n",
    "        janela.extend_layout(janela['container'], [[sg.Checkbox(''), sg.Input('')]])\n",
    "    elif event == 'Resetar':\n",
    "        janela.close()\n",
    "        janela = criar_janela_inicial()\n",
    "\n",
    "janela.close()"
   ]
  }
 ],
 "metadata": {
  "kernelspec": {
   "display_name": "Python 3.11.0 64-bit",
   "language": "python",
   "name": "python3"
  },
  "language_info": {
   "codemirror_mode": {
    "name": "ipython",
    "version": 3
   },
   "file_extension": ".py",
   "mimetype": "text/x-python",
   "name": "python",
   "nbconvert_exporter": "python",
   "pygments_lexer": "ipython3",
   "version": "3.11.0"
  },
  "orig_nbformat": 4,
  "vscode": {
   "interpreter": {
    "hash": "2b216522463207ad40199edfb1f46615a7788339200e5e2dcede2d2ed3eece78"
   }
  }
 },
 "nbformat": 4,
 "nbformat_minor": 2
}
