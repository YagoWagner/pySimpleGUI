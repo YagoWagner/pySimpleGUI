{
 "cells": [
  {
   "cell_type": "markdown",
   "metadata": {},
   "source": [
    "# Novo Cadastro\n",
    "\n"
   ]
  },
  {
   "cell_type": "code",
   "execution_count": 1,
   "metadata": {},
   "outputs": [],
   "source": [
    "from PySimpleGUI import PySimpleGUI as sg"
   ]
  },
  {
   "cell_type": "markdown",
   "metadata": {},
   "source": [
    "Nome ______________________\n",
    "\n",
    "Idade _____________________\n",
    "\n",
    "Seu sexo:\n",
    "\n",
    "__ Masculino       __ Feminino\n",
    "\n",
    "Senha ______________________\n",
    "\n",
    "[OK]    [Cancelar]"
   ]
  },
  {
   "cell_type": "code",
   "execution_count": null,
   "metadata": {},
   "outputs": [],
   "source": [
    "# Layout: Cada linha da lista \"['list']\" é um texto ou interação com a janela criada\n",
    "\n",
    "sg.change_look_and_feel('DarkBlue')\n",
    "layout = [\n",
    "    [sg.Text('Nome', size=(7,0)), sg.Input(key='nome', size=(40,1))],\n",
    "    [sg.Text('Idade', size=(7,0)), sg.Input(key='idade', size=(3,1))],\n",
    "    [sg.Text('Seu sexo:', size=(7,0))],\n",
    "    [sg.Checkbox('Masculino', key='masculino'), sg.Checkbox('Feminino', key='feminino')],\n",
    "    [sg.Text('Senha', size=(7,0)), sg.Input(key='senha',password_char='*', size=(40,1))],\n",
    "    [sg.Button('OK'), sg.Button('Cancelar')],\n",
    "    [sg.Text('', key='msg')]\n",
    "]"
   ]
  },
  {
   "cell_type": "code",
   "execution_count": null,
   "metadata": {},
   "outputs": [],
   "source": [
    "# Janela: Colocamos o nome da janela e com qual variável ela vai trabalhar\n",
    "\n",
    "janela = sg.Window('Novo Cadastro', layout)"
   ]
  },
  {
   "cell_type": "code",
   "execution_count": null,
   "metadata": {},
   "outputs": [],
   "source": [
    "# Extrair os dados da tela: Nesse caso vamos usar o while True, programando através de:\n",
    "# evento: É todo o 'click' que faremos na nossa tela\n",
    "# valores: Sempre que preenchermos um valor em algum campo,  ou que pegarmos alguma informação de algum lugar será um valor\n",
    "\n",
    "while True:\n",
    "    eventos, values = janela.read()\n",
    "    if eventos == sg.WINDOW_CLOSED or eventos == 'Cancelar':\n",
    "        break\n",
    "    elif eventos == 'OK':\n",
    "        janela['msg'].update('Obrigado por se Cadastrar')\n",
    "    \n",
    "janela.close()"
   ]
  }
 ],
 "metadata": {
  "kernelspec": {
   "display_name": "Python 3.11.0 64-bit",
   "language": "python",
   "name": "python3"
  },
  "language_info": {
   "codemirror_mode": {
    "name": "ipython",
    "version": 3
   },
   "file_extension": ".py",
   "mimetype": "text/x-python",
   "name": "python",
   "nbconvert_exporter": "python",
   "pygments_lexer": "ipython3",
   "version": "3.11.0"
  },
  "orig_nbformat": 4,
  "vscode": {
   "interpreter": {
    "hash": "2b216522463207ad40199edfb1f46615a7788339200e5e2dcede2d2ed3eece78"
   }
  }
 },
 "nbformat": 4,
 "nbformat_minor": 2
}
