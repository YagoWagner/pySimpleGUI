{
 "cells": [
  {
   "cell_type": "code",
   "execution_count": 1,
   "metadata": {},
   "outputs": [],
   "source": [
    "import PySimpleGUI as sg"
   ]
  },
  {
   "cell_type": "code",
   "execution_count": 2,
   "metadata": {},
   "outputs": [],
   "source": [
    "sg.theme('Green')\n",
    "layout =[\n",
    "    [sg.Text('Qual é o Rendimento da tinta:', size=(30,1)), sg.Input(size=(8,1), key='rendimento')],\n",
    "    [sg.Text('Qual é a altura da parede:', size=(30,1)), sg.Input(size=(8,1), key='altura')],\n",
    "    [sg.Text('Qual é a largura da parede:', size=(30,1)), sg.Input(size=(8,1), key='largura')],\n",
    "    [sg.Button('Buscar'), sg.Button('Cancelar')],\n",
    "    [sg.Text('', key='Result')]\n",
    "]\n"
   ]
  },
  {
   "cell_type": "code",
   "execution_count": 3,
   "metadata": {},
   "outputs": [],
   "source": [
    "janela = sg.Window('Tinta Para Parede', layout=layout)"
   ]
  },
  {
   "cell_type": "code",
   "execution_count": 4,
   "metadata": {},
   "outputs": [],
   "source": [
    "while True:\n",
    "    event, value = janela.read()\n",
    "    if event == sg.WINDOW_CLOSED or event == 'Cancelar':\n",
    "        break\n",
    "    if event == 'Buscar':\n",
    "        parede = float(value['altura']) * float(value['largura']) \n",
    "        total = parede / float(value['rendimento'])\n",
    "        janela['Result'].update(f'Você precisa de {total:.1f} latas de tinta')  \n",
    "    \n",
    "\n",
    "janela.close()"
   ]
  }
 ],
 "metadata": {
  "kernelspec": {
   "display_name": "Python 3",
   "language": "python",
   "name": "python3"
  },
  "language_info": {
   "codemirror_mode": {
    "name": "ipython",
    "version": 3
   },
   "file_extension": ".py",
   "mimetype": "text/x-python",
   "name": "python",
   "nbconvert_exporter": "python",
   "pygments_lexer": "ipython3",
   "version": "3.11.0"
  },
  "orig_nbformat": 4,
  "vscode": {
   "interpreter": {
    "hash": "2b216522463207ad40199edfb1f46615a7788339200e5e2dcede2d2ed3eece78"
   }
  }
 },
 "nbformat": 4,
 "nbformat_minor": 2
}
