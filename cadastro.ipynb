{
 "cells": [
  {
   "cell_type": "markdown",
   "metadata": {},
   "source": [
    "# Cadastro\n",
    "\n",
    "## Usando a biblioteca PySimpleGUI criamos uma janela interativa podendo colocar texto, botões e caixa de marcação.\n",
    "\n",
    ". Cada parte do código está dividido entre:\n",
    "\n",
    "    . Biblioteca\n",
    "\n",
    "    . Layout\n",
    "\n",
    "    . Janela\n",
    "\n",
    "    . Ler eventos"
   ]
  },
  {
   "cell_type": "code",
   "execution_count": 1,
   "metadata": {},
   "outputs": [],
   "source": [
    "from PySimpleGUI import PySimpleGUI as sg \n"
   ]
  },
  {
   "cell_type": "markdown",
   "metadata": {},
   "source": [
    "## Layout: Cada linha da lista \"['list']\" é um texto ou interação com a janela criada \n",
    "\n",
    "- sg.Theme(' ') = Colocamos o Tema da janela que vamos criar.\n",
    "- layout = [ [ ] ] = É uma lista onde colocaremos um conjundo de listas que vai possuir comandos diversificados.\n",
    "\n",
    "--\n",
    "\n",
    "- sg.Text(' ') = É um campo onde vai receber a informação dentro dele que no caso seria o nome do texto.\n",
    "- sg.Input( ) = É um campo onde o usuário pode interagir usando MOUSE E TECLADO.\n",
    "\n",
    "- OBSERVAÇÃO: Se colocados os dois comandos na mesma linha, eles tem que estar dentro de uma lista e separados por uma vírgula, isso representa uma linha da janela criada com um texto e do lado o campo de interação com o mouse.\n",
    "\n",
    "--\n",
    "\n",
    "- sg.Checkbox(' ') = Vai ser uma caixa que podemos marcar com o mouse, dentro do parenteses podemos nomear essa caixa.\n",
    "\n",
    "- sg.Button(' ') = É um comando que cria um botão na janela criada, e dentro dos parênteses colocamos o nome desse botão.\n",
    "\n",
    "--\n",
    "\n",
    "- size=(30,1) = Muda o tamanho de um campo seja ele de sg.Text( ) ou sg.Input( ), ele recebe duas medidas a primeira é de largura e a segunda de altura, essas medidas contam quantos caracteres cada medida tem.\n",
    "\n",
    "- key=' ' = É um identificador que usamos para poder acessar as informações.\n",
    "- password_char= '*' = Serve para quando colocarmos a senha ela não seja mostrada mas sim o que estiver entre as aspas ' '."
   ]
  },
  {
   "cell_type": "markdown",
   "metadata": {},
   "source": [
    "'''\n",
    "\n",
    "Usuario __________________________\n",
    "\n",
    "Senha ____________________________\n",
    "\n",
    "__ Salvar o Login\n",
    "\n",
    "[Entrar]\n",
    "\n",
    "'''"
   ]
  },
  {
   "cell_type": "code",
   "execution_count": 2,
   "metadata": {},
   "outputs": [],
   "source": [
    "# Layout\n",
    "\n",
    "sg.theme('Reddit')\n",
    "layout = [\n",
    "    [sg.Text('Usuário', size=(7,0)), sg.Input(key='usuario', size=(30,1))],\n",
    "    [sg.Text('Senha', size=(7,0)), sg.Input(key='senha',password_char='*', size=(30,1))],\n",
    "    [sg.Checkbox('Salvar o login')],\n",
    "    [sg.Button('Entrar')],\n",
    "    [sg.Text('', key='msg')]\n",
    "]\n"
   ]
  },
  {
   "cell_type": "markdown",
   "metadata": {},
   "source": [
    "## Janela: Colocamos o nome da janela e com qual variável ela vai trabalhar\n",
    "\n",
    "- janela = Uma variável que vai ser usada para criar a janela do nosso programa.\n",
    "\n",
    "--\n",
    "\n",
    "- sg.Window( ) = Esse comando recebe muitos parâmetros mas os príncipais que temos que colocar é o Título da janela(que tem que estar entre aspas) e o layout que vai ser inserido nessa janela, que no caso é o layout que criamos na última célula, cada elemento colocado tem que estar separado por uma vírgula. "
   ]
  },
  {
   "cell_type": "code",
   "execution_count": 3,
   "metadata": {},
   "outputs": [],
   "source": [
    "# Janela\n",
    "janela = sg.Window('Tela de Login', layout)\n"
   ]
  },
  {
   "cell_type": "markdown",
   "metadata": {},
   "source": [
    "#### Ler os eventos ou Extrair os dados da tela: Nesse caso vamos usar o while True:, programando através de:\n",
    "#### eventos: É todo o 'click' em um botão ou checkbox que damos na nossa janela criada.\n",
    "#### valores: Sempre que preenchermos um valor em algum campo, ou que pegarmos alguma informação de algum lugar será um valor, onde podemos usar as key que atribuimos no slide do layout.\n",
    "\n",
    "- janela.read( ) = Estamos lendo as informações que estão em formato de lista.\n",
    "\n",
    "- sg.WINDOW_CLOSED = Evento em que saimos da página através do botão 'fechar'.\n",
    "\n",
    "- OBSERVAÇÃO: Toda vez que mexermos com 'valores' vamos usar as keys que criamos no layout, as keys são um identificador de um dicionário por isso que elas estãoentre colchetes. Elas são uma forma de idaentificarmos o campo que estamos mexendo, como exemplo: 'valores['usuario']' \n",
    "\n",
    "\n",
    "- janela.close( ) = Não é um evento, é quando a página se encerra após o while loop parar.\n"
   ]
  },
  {
   "cell_type": "code",
   "execution_count": 4,
   "metadata": {},
   "outputs": [],
   "source": [
    "# Ler os eventos \n",
    "\n",
    "while True:\n",
    "    eventos, valores = janela.read() \n",
    "    if eventos == sg.WINDOW_CLOSED:\n",
    "        break\n",
    "    if eventos == 'Entrar':\n",
    "        if valores ['usuario'] == 'Yago Wagner' and valores ['senha'] == 'aaronico':\n",
    "            janela['msg'].update('Bem Vindo') \n",
    "        elif valores ['usuario'] != 'Yago Wagner' and valores ['senha'] == 'aaronico':\n",
    "            janela['msg'].update('Usuário Incorreto')\n",
    "        elif valores ['usuario'] == 'Yago Wagner' and valores ['senha'] != 'aaronico':\n",
    "            janela['msg'].update('Senha Incorreta')\n",
    "        else:\n",
    "            janela['msg'].update('Usuário e Senha Incorretos')\n",
    "\n",
    "janela.close()"
   ]
  }
 ],
 "metadata": {
  "kernelspec": {
   "display_name": "Python 3",
   "language": "python",
   "name": "python3"
  },
  "language_info": {
   "codemirror_mode": {
    "name": "ipython",
    "version": 3
   },
   "file_extension": ".py",
   "mimetype": "text/x-python",
   "name": "python",
   "nbconvert_exporter": "python",
   "pygments_lexer": "ipython3",
   "version": "3.11.0"
  },
  "orig_nbformat": 4,
  "vscode": {
   "interpreter": {
    "hash": "2b216522463207ad40199edfb1f46615a7788339200e5e2dcede2d2ed3eece78"
   }
  }
 },
 "nbformat": 4,
 "nbformat_minor": 2
}
