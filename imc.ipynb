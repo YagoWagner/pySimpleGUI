{
 "cells": [
  {
   "cell_type": "code",
   "execution_count": 1,
   "metadata": {},
   "outputs": [],
   "source": [
    "import PySimpleGUI as sg"
   ]
  },
  {
   "cell_type": "code",
   "execution_count": 2,
   "metadata": {},
   "outputs": [],
   "source": [
    "sg.theme('DarkPurple4')\n",
    "layout =[\n",
    "    [sg.Text('Qual é a sua altura Cm:', size=(25,1)), sg.Input(key='altura', size=(8,1))],\n",
    "    [sg.Text('Qual é o seu peso Kg:', size=(25,1)),sg.Input(key='peso', size=(8,1))],\n",
    "    [sg.Button('Buscar'), sg.Button('Cancelar')],\n",
    "    [sg.Text('', key='Result')]\n",
    "]"
   ]
  },
  {
   "cell_type": "code",
   "execution_count": 3,
   "metadata": {},
   "outputs": [],
   "source": [
    "janela = sg.Window('Calculo do IMC', layout=layout)"
   ]
  },
  {
   "cell_type": "code",
   "execution_count": 4,
   "metadata": {},
   "outputs": [],
   "source": [
    "while True:\n",
    "    event, value = janela.read()\n",
    "    if event == sg.WINDOW_CLOSED or event == 'Cancelar':\n",
    "        break\n",
    "    if event == 'Buscar': \n",
    "        imc = float(value['peso']) / float(value['altura']) ** 2\n",
    "\n",
    "        if imc < 18.5:\n",
    "            msg = 'Magreza'\n",
    "        elif imc >= 18.5 and imc < 25.0 :\n",
    "            msg = 'Normal'\n",
    "        elif imc >= 25.0 and imc < 30.0:\n",
    "            msg = 'Sobrepeso'\n",
    "        elif imc >= 30.0 and imc < 40.0:\n",
    "            msg = 'Obesidade'\n",
    "        else:\n",
    "            msg = 'Obesidade Grave'\n",
    "        janela['Result'].update(f'{msg}')\n",
    "\n",
    "janela.close()"
   ]
  }
 ],
 "metadata": {
  "kernelspec": {
   "display_name": "Python 3",
   "language": "python",
   "name": "python3"
  },
  "language_info": {
   "codemirror_mode": {
    "name": "ipython",
    "version": 3
   },
   "file_extension": ".py",
   "mimetype": "text/x-python",
   "name": "python",
   "nbconvert_exporter": "python",
   "pygments_lexer": "ipython3",
   "version": "3.11.0"
  },
  "orig_nbformat": 4,
  "vscode": {
   "interpreter": {
    "hash": "2b216522463207ad40199edfb1f46615a7788339200e5e2dcede2d2ed3eece78"
   }
  }
 },
 "nbformat": 4,
 "nbformat_minor": 2
}
